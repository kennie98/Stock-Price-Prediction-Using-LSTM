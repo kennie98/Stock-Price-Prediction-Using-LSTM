{
 "cells": [
  {
   "cell_type": "code",
   "execution_count": 0,
   "metadata": {
    "colab": {},
    "colab_type": "code",
    "id": "IJwzHGtwlJIC"
   },
   "outputs": [],
   "source": [
    "import numpy as np  \n",
    "import matplotlib.pyplot as plt  \n",
    "import pandas as pd  "
   ]
  },
  {
   "cell_type": "code",
   "execution_count": 2,
   "metadata": {
    "colab": {
     "base_uri": "https://localhost:8080/",
     "height": 74,
     "resources": {
      "http://localhost:8080/nbextensions/google.colab/files.js": {
       "data": "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",
       "headers": [
        [
         "content-type",
         "application/javascript"
        ]
       ],
       "ok": true,
       "status": 200,
       "status_text": ""
      }
     }
    },
    "colab_type": "code",
    "id": "BtmG1AzNlJIP",
    "outputId": "f30caa85-15dd-48d1-e478-3742cae52246"
   },
   "outputs": [
    {
     "data": {
      "text/html": [
       "\n",
       "     <input type=\"file\" id=\"files-b0ed7429-3c2a-4be4-af95-da92b1cf5c99\" name=\"files[]\" multiple disabled />\n",
       "     <output id=\"result-b0ed7429-3c2a-4be4-af95-da92b1cf5c99\">\n",
       "      Upload widget is only available when the cell has been executed in the\n",
       "      current browser session. Please rerun this cell to enable.\n",
       "      </output>\n",
       "      <script src=\"/nbextensions/google.colab/files.js\"></script> "
      ],
      "text/plain": [
       "<IPython.core.display.HTML object>"
      ]
     },
     "metadata": {
      "tags": []
     },
     "output_type": "display_data"
    },
    {
     "name": "stdout",
     "output_type": "stream",
     "text": [
      "Saving AAPL.csv to AAPL.csv\n"
     ]
    }
   ],
   "source": [
    "# Read The csv file\n",
    "from google.colab import files\n",
    "uploaded = files.upload()"
   ]
  },
  {
   "cell_type": "code",
   "execution_count": 3,
   "metadata": {
    "colab": {
     "base_uri": "https://localhost:8080/",
     "height": 204
    },
    "colab_type": "code",
    "id": "2UBI3hOOlJIU",
    "outputId": "b84890d3-1d00-4e56-906b-929060ea5254"
   },
   "outputs": [
    {
     "data": {
      "text/html": [
       "<div>\n",
       "<style scoped>\n",
       "    .dataframe tbody tr th:only-of-type {\n",
       "        vertical-align: middle;\n",
       "    }\n",
       "\n",
       "    .dataframe tbody tr th {\n",
       "        vertical-align: top;\n",
       "    }\n",
       "\n",
       "    .dataframe thead th {\n",
       "        text-align: right;\n",
       "    }\n",
       "</style>\n",
       "<table border=\"1\" class=\"dataframe\">\n",
       "  <thead>\n",
       "    <tr style=\"text-align: right;\">\n",
       "      <th></th>\n",
       "      <th>Date</th>\n",
       "      <th>Open</th>\n",
       "      <th>High</th>\n",
       "      <th>Low</th>\n",
       "      <th>Close</th>\n",
       "      <th>Adj Close</th>\n",
       "      <th>Volume</th>\n",
       "    </tr>\n",
       "  </thead>\n",
       "  <tbody>\n",
       "    <tr>\n",
       "      <th>0</th>\n",
       "      <td>2009-12-01</td>\n",
       "      <td>1.502857</td>\n",
       "      <td>1.560714</td>\n",
       "      <td>1.500000</td>\n",
       "      <td>1.550714</td>\n",
       "      <td>1.034021</td>\n",
       "      <td>90384000</td>\n",
       "    </tr>\n",
       "    <tr>\n",
       "      <th>1</th>\n",
       "      <td>2009-12-02</td>\n",
       "      <td>1.542857</td>\n",
       "      <td>1.564286</td>\n",
       "      <td>1.529286</td>\n",
       "      <td>1.538571</td>\n",
       "      <td>1.025924</td>\n",
       "      <td>51324000</td>\n",
       "    </tr>\n",
       "    <tr>\n",
       "      <th>2</th>\n",
       "      <td>2009-12-03</td>\n",
       "      <td>1.538571</td>\n",
       "      <td>1.560000</td>\n",
       "      <td>1.497143</td>\n",
       "      <td>1.502143</td>\n",
       "      <td>1.001633</td>\n",
       "      <td>47824000</td>\n",
       "    </tr>\n",
       "    <tr>\n",
       "      <th>3</th>\n",
       "      <td>2009-12-04</td>\n",
       "      <td>1.495714</td>\n",
       "      <td>1.512143</td>\n",
       "      <td>1.483571</td>\n",
       "      <td>1.510714</td>\n",
       "      <td>1.007349</td>\n",
       "      <td>44485000</td>\n",
       "    </tr>\n",
       "    <tr>\n",
       "      <th>4</th>\n",
       "      <td>2009-12-05</td>\n",
       "      <td>1.492857</td>\n",
       "      <td>1.510714</td>\n",
       "      <td>1.480714</td>\n",
       "      <td>1.489286</td>\n",
       "      <td>0.993060</td>\n",
       "      <td>46544400</td>\n",
       "    </tr>\n",
       "  </tbody>\n",
       "</table>\n",
       "</div>"
      ],
      "text/plain": [
       "         Date      Open      High       Low     Close  Adj Close    Volume\n",
       "0  2009-12-01  1.502857  1.560714  1.500000  1.550714   1.034021  90384000\n",
       "1  2009-12-02  1.542857  1.564286  1.529286  1.538571   1.025924  51324000\n",
       "2  2009-12-03  1.538571  1.560000  1.497143  1.502143   1.001633  47824000\n",
       "3  2009-12-04  1.495714  1.512143  1.483571  1.510714   1.007349  44485000\n",
       "4  2009-12-05  1.492857  1.510714  1.480714  1.489286   0.993060  46544400"
      ]
     },
     "execution_count": 3,
     "metadata": {
      "tags": []
     },
     "output_type": "execute_result"
    }
   ],
   "source": [
    "df = pd.read_csv(\"AAPL.csv\")\n",
    "df.head()"
   ]
  },
  {
   "cell_type": "code",
   "execution_count": 4,
   "metadata": {
    "colab": {
     "base_uri": "https://localhost:8080/",
     "height": 34
    },
    "colab_type": "code",
    "id": "lFoQvGB-lJIb",
    "outputId": "0f37c7ef-2429-4c93-b566-a8fdd7ba9f2a"
   },
   "outputs": [
    {
     "data": {
      "text/plain": [
       "(3853, 1)"
      ]
     },
     "execution_count": 4,
     "metadata": {
      "tags": []
     },
     "output_type": "execute_result"
    }
   ],
   "source": [
    "training_data = df.iloc[:, 1:2].values\n",
    "training_data.shape\n"
   ]
  },
  {
   "cell_type": "code",
   "execution_count": 5,
   "metadata": {
    "colab": {
     "base_uri": "https://localhost:8080/",
     "height": 282
    },
    "colab_type": "code",
    "id": "pNZDrOwflJIg",
    "outputId": "2f32558c-ceff-488b-8d81-fa53052e10ec"
   },
   "outputs": [
    {
     "data": {
      "text/plain": [
       "[<matplotlib.lines.Line2D at 0x7fa49481c668>]"
      ]
     },
     "execution_count": 5,
     "metadata": {
      "tags": []
     },
     "output_type": "execute_result"
    },
    {
     "data": {
      "image/png": "[encoded data removed]",
      "text/plain": [
       "<Figure size 432x288 with 1 Axes>"
      ]
     },
     "metadata": {
      "tags": []
     },
     "output_type": "display_data"
    }
   ],
   "source": [
    "plt.plot(training_data)"
   ]
  },
  {
   "cell_type": "code",
   "execution_count": 6,
   "metadata": {
    "colab": {
     "base_uri": "https://localhost:8080/",
     "height": 34
    },
    "colab_type": "code",
    "id": "OBw6xKX-lJIl",
    "outputId": "98ec0371-6147-441f-ed95-6ae132e5c8ce"
   },
   "outputs": [
    {
     "data": {
      "text/plain": [
       "(3853, 1)"
      ]
     },
     "execution_count": 6,
     "metadata": {
      "tags": []
     },
     "output_type": "execute_result"
    }
   ],
   "source": [
    "# data normalization\n",
    "from sklearn.preprocessing import MinMaxScaler\n",
    "scaler = MinMaxScaler(feature_range = (0, 1))\n",
    "\n",
    "scaled_training_data = scaler.fit_transform(training_data)\n",
    "scaled_training_data.shape\n",
    "\n"
   ]
  },
  {
   "cell_type": "code",
   "execution_count": 7,
   "metadata": {
    "colab": {
     "base_uri": "https://localhost:8080/",
     "height": 282
    },
    "colab_type": "code",
    "id": "DwpW5v0ylJIo",
    "outputId": "48a42d8a-07c1-428e-fe86-806487eca66d"
   },
   "outputs": [
    {
     "data": {
      "text/plain": [
       "[<matplotlib.lines.Line2D at 0x7fa485a932b0>]"
      ]
     },
     "execution_count": 7,
     "metadata": {
      "tags": []
     },
     "output_type": "execute_result"
    },
    {
     "data": {
      "image/png": "[encoded data removed]",
      "text/plain": [
       "<Figure size 432x288 with 1 Axes>"
      ]
     },
     "metadata": {
      "tags": []
     },
     "output_type": "display_data"
    }
   ],
   "source": [
    "plt.plot(scaled_training_data)"
   ]
  },
  {
   "cell_type": "markdown",
   "metadata": {
    "colab_type": "text",
    "id": "Ak1dPP86lJIx"
   },
   "source": [
    "Predict the opening stock price of the data based on the opening stock prices for the past 60 days."
   ]
  },
  {
   "cell_type": "code",
   "execution_count": 8,
   "metadata": {
    "colab": {
     "base_uri": "https://localhost:8080/",
     "height": 51
    },
    "colab_type": "code",
    "id": "N719yoWQlJIy",
    "outputId": "ecac3b48-6639-4a25-abd4-84717d91c5aa"
   },
   "outputs": [
    {
     "name": "stdout",
     "output_type": "stream",
     "text": [
      "(3743, 60)\n",
      "(3743,)\n"
     ]
    }
   ],
   "source": [
    "# create the training feature set and the corresponding results\n",
    "# use 3803 data for training, and the rest 50 for testing\n",
    "training_feature = []\n",
    "result = []\n",
    "for i in range(60, 3803):\n",
    "  training_feature.append(scaled_training_data[i-60:i,0])\n",
    "  result.append(scaled_training_data[i,0])\n",
    "training_feature = np.array(training_feature)\n",
    "result = np.array(result)\n",
    "print(training_feature.shape)\n",
    "print(result.shape)"
   ]
  },
  {
   "cell_type": "code",
   "execution_count": 9,
   "metadata": {
    "colab": {
     "base_uri": "https://localhost:8080/",
     "height": 34
    },
    "colab_type": "code",
    "id": "oz7b66exlJI0",
    "outputId": "d3c80430-7a67-41b2-dfae-522d72342325"
   },
   "outputs": [
    {
     "data": {
      "text/plain": [
       "(3743, 60, 1)"
      ]
     },
     "execution_count": 9,
     "metadata": {
      "tags": []
     },
     "output_type": "execute_result"
    }
   ],
   "source": [
    "# reshape the training feature for LSTM\n",
    "training_feature = np.reshape(training_feature, (training_feature.shape[0], training_feature.shape[1], 1))\n",
    "training_feature.shape"
   ]
  },
  {
   "cell_type": "markdown",
   "metadata": {
    "colab_type": "text",
    "id": "gQelmtPylJI3"
   },
   "source": [
    "Add 3 LSTM layer and a dense layer a last layer of the model"
   ]
  },
  {
   "cell_type": "code",
   "execution_count": 10,
   "metadata": {
    "colab": {
     "base_uri": "https://localhost:8080/",
     "height": 615
    },
    "colab_type": "code",
    "id": "pfkjMbXMlJI4",
    "outputId": "a5593689-76a3-4a61-a24f-bf159b4928e0"
   },
   "outputs": [
    {
     "name": "stderr",
     "output_type": "stream",
     "text": [
      "Using TensorFlow backend.\n"
     ]
    },
    {
     "name": "stdout",
     "output_type": "stream",
     "text": [
      "WARNING:tensorflow:From /usr/local/lib/python3.6/dist-packages/keras/backend/tensorflow_backend.py:66: The name tf.get_default_graph is deprecated. Please use tf.compat.v1.get_default_graph instead.\n",
      "\n",
      "WARNING:tensorflow:From /usr/local/lib/python3.6/dist-packages/keras/backend/tensorflow_backend.py:541: The name tf.placeholder is deprecated. Please use tf.compat.v1.placeholder instead.\n",
      "\n",
      "WARNING:tensorflow:From /usr/local/lib/python3.6/dist-packages/keras/backend/tensorflow_backend.py:4432: The name tf.random_uniform is deprecated. Please use tf.random.uniform instead.\n",
      "\n",
      "WARNING:tensorflow:From /usr/local/lib/python3.6/dist-packages/keras/backend/tensorflow_backend.py:148: The name tf.placeholder_with_default is deprecated. Please use tf.compat.v1.placeholder_with_default instead.\n",
      "\n",
      "WARNING:tensorflow:From /usr/local/lib/python3.6/dist-packages/keras/backend/tensorflow_backend.py:3733: calling dropout (from tensorflow.python.ops.nn_ops) with keep_prob is deprecated and will be removed in a future version.\n",
      "Instructions for updating:\n",
      "Please use `rate` instead of `keep_prob`. Rate should be set to `rate = 1 - keep_prob`.\n",
      "Model: \"sequential_1\"\n",
      "_________________________________________________________________\n",
      "Layer (type)                 Output Shape              Param #   \n",
      "=================================================================\n",
      "lstm_1 (LSTM)                (None, 60, 50)            10400     \n",
      "_________________________________________________________________\n",
      "dropout_1 (Dropout)          (None, 60, 50)            0         \n",
      "_________________________________________________________________\n",
      "lstm_2 (LSTM)                (None, 60, 50)            20200     \n",
      "_________________________________________________________________\n",
      "dropout_2 (Dropout)          (None, 60, 50)            0         \n",
      "_________________________________________________________________\n",
      "lstm_3 (LSTM)                (None, 50)                20200     \n",
      "_________________________________________________________________\n",
      "dropout_3 (Dropout)          (None, 50)                0         \n",
      "_________________________________________________________________\n",
      "dense_1 (Dense)              (None, 1)                 51        \n",
      "=================================================================\n",
      "Total params: 50,851\n",
      "Trainable params: 50,851\n",
      "Non-trainable params: 0\n",
      "_________________________________________________________________\n"
     ]
    }
   ],
   "source": [
    "from keras.models import Sequential\n",
    "from keras.layers import Dense\n",
    "from keras.layers import LSTM\n",
    "from keras.layers import Dropout\n",
    "\n",
    "model = Sequential()\n",
    "\n",
    "model.add(LSTM(units=50, return_sequences=True, input_shape=(training_feature.shape[1], 1)))\n",
    "model.add(Dropout(0.2))\n",
    "\n",
    "model.add(LSTM(units=50, return_sequences=True))\n",
    "model.add(Dropout(0.2))\n",
    "\n",
    "model.add(LSTM(units=50))\n",
    "model.add(Dropout(0.2))\n",
    "\n",
    "model.add(Dense(units = 1))\n",
    "\n",
    "model.summary()"
   ]
  },
  {
   "cell_type": "markdown",
   "metadata": {
    "colab_type": "text",
    "id": "qLOEmc38lj4U"
   },
   "source": [
    "Train the model and elaborare /apply hyper-parameter optimization\n"
   ]
  },
  {
   "cell_type": "code",
   "execution_count": 11,
   "metadata": {
    "colab": {
     "base_uri": "https://localhost:8080/",
     "height": 1000
    },
    "colab_type": "code",
    "id": "N2fqeM8NlJJA",
    "outputId": "d2185923-ceec-44b5-bd0d-3acae385a93f"
   },
   "outputs": [
    {
     "name": "stdout",
     "output_type": "stream",
     "text": [
      "WARNING:tensorflow:From /usr/local/lib/python3.6/dist-packages/keras/optimizers.py:793: The name tf.train.Optimizer is deprecated. Please use tf.compat.v1.train.Optimizer instead.\n",
      "\n",
      "WARNING:tensorflow:From /usr/local/lib/python3.6/dist-packages/tensorflow_core/python/ops/math_grad.py:1424: where (from tensorflow.python.ops.array_ops) is deprecated and will be removed in a future version.\n",
      "Instructions for updating:\n",
      "Use tf.where in 2.0, which has the same broadcast rule as np.where\n",
      "WARNING:tensorflow:From /usr/local/lib/python3.6/dist-packages/keras/backend/tensorflow_backend.py:1033: The name tf.assign_add is deprecated. Please use tf.compat.v1.assign_add instead.\n",
      "\n",
      "WARNING:tensorflow:From /usr/local/lib/python3.6/dist-packages/keras/backend/tensorflow_backend.py:1020: The name tf.assign is deprecated. Please use tf.compat.v1.assign instead.\n",
      "\n",
      "WARNING:tensorflow:From /usr/local/lib/python3.6/dist-packages/keras/backend/tensorflow_backend.py:3005: The name tf.Session is deprecated. Please use tf.compat.v1.Session instead.\n",
      "\n",
      "Epoch 1/100\n",
      "WARNING:tensorflow:From /usr/local/lib/python3.6/dist-packages/keras/backend/tensorflow_backend.py:190: The name tf.get_default_session is deprecated. Please use tf.compat.v1.get_default_session instead.\n",
      "\n",
      "WARNING:tensorflow:From /usr/local/lib/python3.6/dist-packages/keras/backend/tensorflow_backend.py:197: The name tf.ConfigProto is deprecated. Please use tf.compat.v1.ConfigProto instead.\n",
      "\n",
      "WARNING:tensorflow:From /usr/local/lib/python3.6/dist-packages/keras/backend/tensorflow_backend.py:207: The name tf.global_variables is deprecated. Please use tf.compat.v1.global_variables instead.\n",
      "\n",
      "WARNING:tensorflow:From /usr/local/lib/python3.6/dist-packages/keras/backend/tensorflow_backend.py:216: The name tf.is_variable_initialized is deprecated. Please use tf.compat.v1.is_variable_initialized instead.\n",
      "\n",
      "WARNING:tensorflow:From /usr/local/lib/python3.6/dist-packages/keras/backend/tensorflow_backend.py:223: The name tf.variables_initializer is deprecated. Please use tf.compat.v1.variables_initializer instead.\n",
      "\n",
      "3743/3743 [==============================] - 17s 5ms/step - loss: 0.0072\n",
      "Epoch 2/100\n",
      "3743/3743 [==============================] - 15s 4ms/step - loss: 0.0015\n",
      "Epoch 3/100\n",
      "3743/3743 [==============================] - 15s 4ms/step - loss: 0.0015\n",
      "Epoch 4/100\n",
      "3743/3743 [==============================] - 15s 4ms/step - loss: 0.0015\n",
      "Epoch 5/100\n",
      "3743/3743 [==============================] - 15s 4ms/step - loss: 0.0013\n",
      "Epoch 6/100\n",
      "3743/3743 [==============================] - 15s 4ms/step - loss: 0.0011\n",
      "Epoch 7/100\n",
      "3743/3743 [==============================] - 15s 4ms/step - loss: 0.0012\n",
      "Epoch 8/100\n",
      "3743/3743 [==============================] - 15s 4ms/step - loss: 9.9096e-04\n",
      "Epoch 9/100\n",
      "3743/3743 [==============================] - 15s 4ms/step - loss: 0.0011\n",
      "Epoch 10/100\n",
      "3743/3743 [==============================] - 15s 4ms/step - loss: 9.5949e-04\n",
      "Epoch 11/100\n",
      "3743/3743 [==============================] - 15s 4ms/step - loss: 9.0927e-04\n",
      "Epoch 12/100\n",
      "3743/3743 [==============================] - 15s 4ms/step - loss: 8.4284e-04\n",
      "Epoch 13/100\n",
      "3743/3743 [==============================] - 15s 4ms/step - loss: 8.6663e-04\n",
      "Epoch 14/100\n",
      "3743/3743 [==============================] - 15s 4ms/step - loss: 7.6699e-04\n",
      "Epoch 15/100\n",
      "3743/3743 [==============================] - 15s 4ms/step - loss: 8.4731e-04\n",
      "Epoch 16/100\n",
      "3743/3743 [==============================] - 15s 4ms/step - loss: 8.9238e-04\n",
      "Epoch 17/100\n",
      "3743/3743 [==============================] - 15s 4ms/step - loss: 7.2335e-04\n",
      "Epoch 18/100\n",
      "3743/3743 [==============================] - 15s 4ms/step - loss: 8.5035e-04\n",
      "Epoch 19/100\n",
      "3743/3743 [==============================] - 15s 4ms/step - loss: 8.0100e-04\n",
      "Epoch 20/100\n",
      "3743/3743 [==============================] - 15s 4ms/step - loss: 7.5127e-04\n",
      "Epoch 21/100\n",
      "3743/3743 [==============================] - 15s 4ms/step - loss: 6.9436e-04\n",
      "Epoch 22/100\n",
      "3743/3743 [==============================] - 15s 4ms/step - loss: 6.8757e-04\n",
      "Epoch 23/100\n",
      "3743/3743 [==============================] - 15s 4ms/step - loss: 6.8573e-04\n",
      "Epoch 24/100\n",
      "3743/3743 [==============================] - 15s 4ms/step - loss: 7.1145e-04\n",
      "Epoch 25/100\n",
      "3743/3743 [==============================] - 15s 4ms/step - loss: 6.3411e-04\n",
      "Epoch 26/100\n",
      "3743/3743 [==============================] - 15s 4ms/step - loss: 6.3205e-04\n",
      "Epoch 27/100\n",
      "3743/3743 [==============================] - 15s 4ms/step - loss: 6.6318e-04\n",
      "Epoch 28/100\n",
      "3743/3743 [==============================] - 15s 4ms/step - loss: 7.2858e-04\n",
      "Epoch 29/100\n",
      "3743/3743 [==============================] - 15s 4ms/step - loss: 7.5597e-04\n",
      "Epoch 30/100\n",
      "3743/3743 [==============================] - 15s 4ms/step - loss: 6.5659e-04\n",
      "Epoch 31/100\n",
      "3743/3743 [==============================] - 15s 4ms/step - loss: 6.0867e-04\n",
      "Epoch 32/100\n",
      "3743/3743 [==============================] - 16s 4ms/step - loss: 6.5690e-04\n",
      "Epoch 33/100\n",
      "3743/3743 [==============================] - 15s 4ms/step - loss: 7.4578e-04\n",
      "Epoch 34/100\n",
      "3743/3743 [==============================] - 15s 4ms/step - loss: 5.8727e-04\n",
      "Epoch 35/100\n",
      "3743/3743 [==============================] - 15s 4ms/step - loss: 5.8632e-04\n",
      "Epoch 36/100\n",
      "3743/3743 [==============================] - 15s 4ms/step - loss: 5.9382e-04\n",
      "Epoch 37/100\n",
      "3743/3743 [==============================] - 15s 4ms/step - loss: 6.1681e-04\n",
      "Epoch 38/100\n",
      "3743/3743 [==============================] - 15s 4ms/step - loss: 6.3706e-04\n",
      "Epoch 39/100\n",
      "3743/3743 [==============================] - 15s 4ms/step - loss: 6.0193e-04\n",
      "Epoch 40/100\n",
      "3743/3743 [==============================] - 15s 4ms/step - loss: 5.9852e-04\n",
      "Epoch 41/100\n",
      "3743/3743 [==============================] - 15s 4ms/step - loss: 6.9463e-04\n",
      "Epoch 42/100\n",
      "3743/3743 [==============================] - 15s 4ms/step - loss: 6.0489e-04\n",
      "Epoch 43/100\n",
      "3743/3743 [==============================] - 15s 4ms/step - loss: 5.7353e-04\n",
      "Epoch 44/100\n",
      "3743/3743 [==============================] - 15s 4ms/step - loss: 5.7187e-04\n",
      "Epoch 45/100\n",
      "3743/3743 [==============================] - 15s 4ms/step - loss: 6.3708e-04\n",
      "Epoch 46/100\n",
      "3743/3743 [==============================] - 15s 4ms/step - loss: 6.1911e-04\n",
      "Epoch 47/100\n",
      "3743/3743 [==============================] - 16s 4ms/step - loss: 5.8668e-04\n",
      "Epoch 48/100\n",
      "3743/3743 [==============================] - 16s 4ms/step - loss: 5.9835e-04\n",
      "Epoch 49/100\n",
      "3743/3743 [==============================] - 15s 4ms/step - loss: 5.9718e-04\n",
      "Epoch 50/100\n",
      "3743/3743 [==============================] - 15s 4ms/step - loss: 5.9116e-04\n",
      "Epoch 51/100\n",
      "3743/3743 [==============================] - 15s 4ms/step - loss: 5.9913e-04\n",
      "Epoch 52/100\n",
      "3743/3743 [==============================] - 15s 4ms/step - loss: 6.2322e-04\n",
      "Epoch 53/100\n",
      "3743/3743 [==============================] - 15s 4ms/step - loss: 7.7170e-04\n",
      "Epoch 54/100\n",
      "3743/3743 [==============================] - 15s 4ms/step - loss: 6.3518e-04\n",
      "Epoch 55/100\n",
      "3743/3743 [==============================] - 15s 4ms/step - loss: 5.5361e-04\n",
      "Epoch 56/100\n",
      "3743/3743 [==============================] - 15s 4ms/step - loss: 6.2759e-04\n",
      "Epoch 57/100\n",
      "3743/3743 [==============================] - 15s 4ms/step - loss: 5.3713e-04\n",
      "Epoch 58/100\n",
      "3743/3743 [==============================] - 15s 4ms/step - loss: 6.1808e-04\n",
      "Epoch 59/100\n",
      "3743/3743 [==============================] - 15s 4ms/step - loss: 5.9150e-04\n",
      "Epoch 60/100\n",
      "3743/3743 [==============================] - 15s 4ms/step - loss: 6.2929e-04\n",
      "Epoch 61/100\n",
      "3743/3743 [==============================] - 15s 4ms/step - loss: 6.0062e-04\n",
      "Epoch 62/100\n",
      "3743/3743 [==============================] - 15s 4ms/step - loss: 6.0354e-04\n",
      "Epoch 63/100\n",
      "3743/3743 [==============================] - 16s 4ms/step - loss: 5.2942e-04\n",
      "Epoch 64/100\n",
      "3743/3743 [==============================] - 16s 4ms/step - loss: 6.0321e-04\n",
      "Epoch 65/100\n",
      "3743/3743 [==============================] - 15s 4ms/step - loss: 5.8071e-04\n",
      "Epoch 66/100\n",
      "3743/3743 [==============================] - 16s 4ms/step - loss: 5.6054e-04\n",
      "Epoch 67/100\n",
      "3743/3743 [==============================] - 16s 4ms/step - loss: 5.3883e-04\n",
      "Epoch 68/100\n",
      "3743/3743 [==============================] - 16s 4ms/step - loss: 5.4448e-04\n",
      "Epoch 69/100\n",
      "3743/3743 [==============================] - 15s 4ms/step - loss: 6.0355e-04\n",
      "Epoch 70/100\n",
      "3743/3743 [==============================] - 15s 4ms/step - loss: 5.5410e-04\n",
      "Epoch 71/100\n",
      "3743/3743 [==============================] - 15s 4ms/step - loss: 5.5696e-04\n",
      "Epoch 72/100\n",
      "3743/3743 [==============================] - 15s 4ms/step - loss: 5.6738e-04\n",
      "Epoch 73/100\n",
      "3743/3743 [==============================] - 15s 4ms/step - loss: 5.3018e-04\n",
      "Epoch 74/100\n",
      "3743/3743 [==============================] - 16s 4ms/step - loss: 5.5767e-04\n",
      "Epoch 75/100\n",
      "3743/3743 [==============================] - 16s 4ms/step - loss: 6.0511e-04\n",
      "Epoch 76/100\n",
      "3743/3743 [==============================] - 16s 4ms/step - loss: 5.9387e-04\n",
      "Epoch 77/100\n",
      "3743/3743 [==============================] - 15s 4ms/step - loss: 5.1335e-04\n",
      "Epoch 78/100\n",
      "3743/3743 [==============================] - 15s 4ms/step - loss: 5.5326e-04\n",
      "Epoch 79/100\n",
      "3743/3743 [==============================] - 15s 4ms/step - loss: 5.1896e-04\n",
      "Epoch 80/100\n",
      "3743/3743 [==============================] - 16s 4ms/step - loss: 5.5467e-04\n",
      "Epoch 81/100\n",
      "3743/3743 [==============================] - 16s 4ms/step - loss: 5.2293e-04\n",
      "Epoch 82/100\n",
      "3743/3743 [==============================] - 16s 4ms/step - loss: 5.6660e-04\n",
      "Epoch 83/100\n",
      "3743/3743 [==============================] - 14s 4ms/step - loss: 5.0873e-04\n",
      "Epoch 84/100\n",
      "3743/3743 [==============================] - 15s 4ms/step - loss: 6.0734e-04\n",
      "Epoch 85/100\n",
      "3743/3743 [==============================] - 15s 4ms/step - loss: 5.5408e-04\n",
      "Epoch 86/100\n",
      "3743/3743 [==============================] - 14s 4ms/step - loss: 6.5302e-04\n",
      "Epoch 87/100\n",
      "3743/3743 [==============================] - 15s 4ms/step - loss: 5.3722e-04\n",
      "Epoch 88/100\n",
      "3743/3743 [==============================] - 18s 5ms/step - loss: 5.9408e-04\n",
      "Epoch 89/100\n",
      "3743/3743 [==============================] - 15s 4ms/step - loss: 5.2323e-04\n",
      "Epoch 90/100\n",
      "3743/3743 [==============================] - 14s 4ms/step - loss: 5.5742e-04\n",
      "Epoch 91/100\n",
      "3743/3743 [==============================] - 14s 4ms/step - loss: 5.7853e-04\n",
      "Epoch 92/100\n",
      "3743/3743 [==============================] - 15s 4ms/step - loss: 5.4266e-04\n",
      "Epoch 93/100\n",
      "3743/3743 [==============================] - 16s 4ms/step - loss: 5.0168e-04\n",
      "Epoch 94/100\n",
      "3743/3743 [==============================] - 15s 4ms/step - loss: 5.7810e-04\n",
      "Epoch 95/100\n",
      "3743/3743 [==============================] - 15s 4ms/step - loss: 5.2682e-04\n",
      "Epoch 96/100\n",
      "3743/3743 [==============================] - 15s 4ms/step - loss: 5.5803e-04\n",
      "Epoch 97/100\n",
      "3743/3743 [==============================] - 15s 4ms/step - loss: 5.3255e-04\n",
      "Epoch 98/100\n",
      "3743/3743 [==============================] - 15s 4ms/step - loss: 5.6399e-04\n",
      "Epoch 99/100\n",
      "3743/3743 [==============================] - 16s 4ms/step - loss: 5.4714e-04\n",
      "Epoch 100/100\n",
      "3743/3743 [==============================] - 16s 4ms/step - loss: 5.7744e-04\n"
     ]
    },
    {
     "data": {
      "text/plain": [
       "<keras.callbacks.History at 0x7fa485a37048>"
      ]
     },
     "execution_count": 11,
     "metadata": {
      "tags": []
     },
     "output_type": "execute_result"
    }
   ],
   "source": [
    "model.compile(optimizer = 'adam', loss = 'mean_squared_error')\n",
    "model.fit(training_feature, result, epochs = 100, batch_size = 32)"
   ]
  },
  {
   "cell_type": "code",
   "execution_count": 22,
   "metadata": {
    "colab": {
     "base_uri": "https://localhost:8080/",
     "height": 404
    },
    "colab_type": "code",
    "id": "4heVAvWfCehv",
    "outputId": "e1a52bec-38c2-4de6-e2cf-cf80ba6bf5da"
   },
   "outputs": [
    {
     "data": {
      "image/png": "[encoded data removed]",
      "text/plain": [
       "<Figure size 720x432 with 1 Axes>"
      ]
     },
     "metadata": {
      "tags": []
     },
     "output_type": "display_data"
    }
   ],
   "source": [
    "# check the model on training data first\n",
    "prediction = model.predict(training_feature)\n",
    "\n",
    "# convert back to original scale\n",
    "prediction = scaler.inverse_transform(prediction)\n",
    "\n",
    "# plot the training data and its prediction results\n",
    "plt.figure(figsize=(10,6))\n",
    "plt.plot(training_data[60:3803], color='blue', label='Actual Stock Price (training data)')\n",
    "plt.plot(prediction , color='red', label='Predicted Stock Price (training data)')\n",
    "plt.title('Stock Price Prediction')\n",
    "plt.xlabel('Date')\n",
    "plt.ylabel('Stock Price')\n",
    "plt.legend()\n",
    "plt.show()"
   ]
  },
  {
   "cell_type": "code",
   "execution_count": 14,
   "metadata": {
    "colab": {
     "base_uri": "https://localhost:8080/",
     "height": 34
    },
    "colab_type": "code",
    "id": "aVNhF4IQyMiq",
    "outputId": "5af2d1fd-d6f7-4eae-a647-c3f0663bd041"
   },
   "outputs": [
    {
     "name": "stdout",
     "output_type": "stream",
     "text": [
      "(50, 60, 1)\n"
     ]
    }
   ],
   "source": [
    "# prepare the rest 50 data point as the testing data\n",
    "testing_feature = []\n",
    "for i in range(3803, 3853):\n",
    "  testing_feature.append(scaled_training_data[i-60:i,0])\n",
    "\n",
    "testing_feature = np.array(testing_feature)\n",
    "testing_feature = np.reshape(testing_feature, (testing_feature.shape[0], testing_feature.shape[1], 1))\n",
    "print(testing_feature.shape)"
   ]
  },
  {
   "cell_type": "code",
   "execution_count": 0,
   "metadata": {
    "colab": {},
    "colab_type": "code",
    "id": "gNADStodAUkg"
   },
   "outputs": [],
   "source": [
    "# prediction of the testing data\n",
    "predictions = model.predict(testing_feature)\n",
    "\n",
    "# convert back to original scale\n",
    "predictions = scaler.inverse_transform(predictions)"
   ]
  },
  {
   "cell_type": "code",
   "execution_count": 16,
   "metadata": {
    "colab": {
     "base_uri": "https://localhost:8080/",
     "height": 404
    },
    "colab_type": "code",
    "id": "L_cp6szHAu5u",
    "outputId": "cedb8b36-8096-4193-e030-2bb3e5d96f94"
   },
   "outputs": [
    {
     "data": {
      "image/png": "[encoded data removed]",
      "text/plain": [
       "<Figure size 720x432 with 1 Axes>"
      ]
     },
     "metadata": {
      "tags": []
     },
     "output_type": "display_data"
    }
   ],
   "source": [
    "# plot the test data and the prediction\n",
    "plt.figure(figsize=(10,6))\n",
    "plt.plot(training_data[3803:3853], color='blue', label='Actual Stock Price')\n",
    "plt.plot(predictions , color='red', label='Predicted Stock Price')\n",
    "plt.title('Stock Price Prediction')\n",
    "plt.xlabel('Date')\n",
    "plt.ylabel('Stock Price')\n",
    "plt.legend()\n",
    "plt.show()"
   ]
  }
 ],
 "metadata": {
  "accelerator": "TPU",
  "colab": {
   "name": "StockPrice_assignment.ipynb",
   "provenance": []
  },
  "kernelspec": {
   "display_name": "Python 3",
   "language": "python",
   "name": "python3"
  },
  "language_info": {
   "codemirror_mode": {
    "name": "ipython",
    "version": 3
   },
   "file_extension": ".py",
   "mimetype": "text/x-python",
   "name": "python",
   "nbconvert_exporter": "python",
   "pygments_lexer": "ipython3",
   "version": "3.7.3"
  }
 },
 "nbformat": 4,
 "nbformat_minor": 1
}
